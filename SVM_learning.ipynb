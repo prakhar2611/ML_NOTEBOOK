{
  "nbformat": 4,
  "nbformat_minor": 0,
  "metadata": {
    "colab": {
      "provenance": []
    },
    "kernelspec": {
      "name": "python3",
      "display_name": "Python 3"
    },
    "language_info": {
      "name": "python"
    }
  },
  "cells": [
    {
      "cell_type": "code",
      "source": [
        "import pandas as pd\n",
        "from sklearn.feature_extraction.text import TfidfVectorizer\n",
        "from sklearn.preprocessing import StandardScaler, LabelEncoder\n",
        "from sklearn.svm import SVC\n",
        "from sklearn.pipeline import Pipeline\n",
        "from sklearn.model_selection import train_test_split\n",
        "from datetime import datetime\n",
        "import numpy as np\n",
        "from sklearn.model_selection import GridSearchCV\n",
        "from sklearn.cluster import KMeans\n",
        "\n"
      ],
      "metadata": {
        "id": "1U7fXBwoZma3"
      },
      "execution_count": 310,
      "outputs": []
    },
    {
      "cell_type": "markdown",
      "source": [
        "# loading the data from csv"
      ],
      "metadata": {
        "id": "sS4fjo6W6uVa"
      }
    },
    {
      "cell_type": "code",
      "source": [],
      "metadata": {
        "id": "y-hYN9fUxqSR"
      },
      "execution_count": null,
      "outputs": []
    },
    {
      "cell_type": "code",
      "source": [
        "# Replace 'your_data.csv' with the actual path to your CSV file\n",
        "data = pd.read_csv('data_classification_training.csv')\n",
        "data.dropna()\n",
        "\n",
        "data['weekday'] = pd.to_datetime(data['duration']).dt.weekday\n",
        "data['hour'] = pd.to_datetime(data['duration']).dt.hour\n",
        "\n",
        "# Extract features based on data types\n",
        "\n",
        "# Label encoding for categorical feature (label)\n",
        "label_encoder = LabelEncoder()\n",
        "data['label'] = label_encoder.fit_transform(data['label'])\n",
        "target = data['label']  # Extract target variable\n",
        "\n",
        "features = data[['amount','vpa','weekday','hour','bank']]\n",
        "\n",
        "\n",
        "\n",
        "\n",
        "\n",
        "\n"
      ],
      "metadata": {
        "id": "KNPPYFqOZsh8"
      },
      "execution_count": 295,
      "outputs": []
    },
    {
      "cell_type": "code",
      "source": [
        "X_train, X_test, y_train, y_test = train_test_split(features, target, test_size=1, random_state=42)\n",
        "print(X_train.shape)\n",
        "print(X_test.shape)\n",
        "print(y_train.shape)\n",
        "print(y_test.shape)\n",
        "# print(X_train)\n",
        "# print(X_test)\n",
        "# print(y_train)\n",
        "# print(y_test)"
      ],
      "metadata": {
        "colab": {
          "base_uri": "https://localhost:8080/"
        },
        "id": "Jyc1DQ9_e37E",
        "outputId": "c1ac49a2-7096-4dcc-ce51-68cbc62418d7"
      },
      "execution_count": 296,
      "outputs": [
        {
          "output_type": "stream",
          "name": "stdout",
          "text": [
            "(542, 5)\n",
            "(1, 5)\n",
            "(542,)\n",
            "(1,)\n"
          ]
        }
      ]
    },
    {
      "cell_type": "code",
      "source": [
        "# Feature scaling for numerical features (amount and timestamp)\n",
        "# scaler = StandardScaler()\n",
        "# X_train_scaled = scaler.fit_transform(X_train[['amount', 'weekday','hour','vpa_1']])\n",
        "# X_test_scaled = scaler.transform(X_test[['amount', 'weekday','hour','vpa_1']])\n",
        "\n",
        "scaler = StandardScaler()\n",
        "X_train_scaled = scaler.fit_transform(X_train[['amount','weekday','hour','bank']])\n",
        "X_test_scaled = scaler.transform(X_test[['amount','weekday','hour','bank']])"
      ],
      "metadata": {
        "id": "vLzpJGXNh8lF"
      },
      "execution_count": 297,
      "outputs": []
    },
    {
      "cell_type": "code",
      "source": [
        "# TF-IDF vectorization for text feature (vpa)\n",
        "vectorizer = TfidfVectorizer(max_features=500)  # Adjust max_features as needed\n",
        "X_train_vpa_vectorized = vectorizer.fit_transform(X_train['vpa'])\n",
        "X_test_vpa_vectorized = vectorizer.transform(X_test['vpa'])\n",
        "\n",
        "print(\"Shape of X_train_scaled:\", X_train_scaled.shape)\n",
        "# print(\"Shape of X_train_vpa_vectorized:\", X_train_vpa_vectorized.shape)\n",
        "print(\"Shape of X_test_scaled:\", X_test_scaled.shape)\n",
        "# print(\"Shape of X_test_vpa_vectorized:\", X_test_vpa_vectorized.shape)\n",
        "# print(\"Shape of X_train_vpa_vectorized:\", pd.DataFrame(X_train_vpa_vectorized.toarray()))\n",
        "\n"
      ],
      "metadata": {
        "colab": {
          "base_uri": "https://localhost:8080/"
        },
        "id": "upCfvXNBiA-T",
        "outputId": "c0166cf3-b620-42cf-fc42-f987f67c05f5"
      },
      "execution_count": 298,
      "outputs": [
        {
          "output_type": "stream",
          "name": "stdout",
          "text": [
            "Shape of X_train_scaled: (542, 4)\n",
            "Shape of X_test_scaled: (1, 4)\n"
          ]
        }
      ]
    },
    {
      "cell_type": "code",
      "source": [
        "\n",
        "X_train_combined = np.hstack((X_train_scaled, X_train_vpa_vectorized.toarray()))  # Or use np.vstack or concatenation with axis=1\n",
        "X_test_combined = np.hstack((X_test_scaled, X_test_vpa_vectorized.toarray()))\n",
        "\n",
        "\n",
        "# X_train_combined = np.hstack((X_train_scaled))  # Or use np.vstack or concatenation with axis=1\n",
        "# X_test_combined = np.hstack((X_test_scaled))\n",
        "\n",
        "print(X_test_combined.shape)\n",
        "print(X_train_combined.shape)\n",
        "\n"
      ],
      "metadata": {
        "colab": {
          "base_uri": "https://localhost:8080/"
        },
        "id": "jB57Zsafb9xP",
        "outputId": "b8899155-dfe1-4467-9a73-303f31ba8924"
      },
      "execution_count": 299,
      "outputs": [
        {
          "output_type": "stream",
          "name": "stdout",
          "text": [
            "(1, 108)\n",
            "(542, 108)\n"
          ]
        }
      ]
    },
    {
      "cell_type": "code",
      "source": [
        "\n",
        "## Experimenting with the different configuration\n",
        "# Define candidate kernels (uncomment desired options)\n",
        "kernels = {'linear': ('linear', None), 'rbf': ('rbf', SVC(kernel='rbf'))}\n",
        "\n",
        "# Define hyperparameter ranges for grid search (adjust as needed)\n",
        "param_grid = {'C': [0.1, 1,2,3,4,5,6,7,8,9, 10], 'gamma': [0.01, 0.1, 1,2,3,4,5,6,7]}\n",
        "\n",
        "# Create a grid search object\n",
        "grid_search = GridSearchCV(estimator=SVC(), param_grid=param_grid, scoring='f1_macro')\n",
        "\n",
        "# Fit the grid search to your data (replace with your features)\n",
        "grid_search.fit(X_train_combined, y_train)\n",
        "\n",
        "# Best performing kernel and hyperparameters\n",
        "best_kernel = grid_search.best_estimator_.kernel\n",
        "best_C = grid_search.best_params_['C']\n",
        "best_gamma = grid_search.best_params_['gamma']\n",
        "\n",
        "# Create an SVM model with the best configuration\n",
        "\n",
        "svm_clf = SVC(kernel=best_kernel, C=best_C, gamma=best_gamma)"
      ],
      "metadata": {
        "colab": {
          "base_uri": "https://localhost:8080/"
        },
        "id": "c987RKIou5dB",
        "outputId": "63ea6dbb-593f-44c5-be26-ed7315e4b69c"
      },
      "execution_count": 325,
      "outputs": [
        {
          "output_type": "stream",
          "name": "stderr",
          "text": [
            "/usr/local/lib/python3.10/dist-packages/sklearn/model_selection/_split.py:700: UserWarning: The least populated class in y has only 1 members, which is less than n_splits=5.\n",
            "  warnings.warn(\n"
          ]
        }
      ]
    },
    {
      "cell_type": "code",
      "source": [
        "# svm_clf = SVC(kernel='linear', C=1.0)  # Experiment with different kernels (e.g., 'rbf') and C values\n",
        "# svm_clf.fit(X_train_scaled, y_train)\n",
        "# svm_clf = SVC(kernel='rbf', C=1.6)  # Experiment with different kernels (e.g., 'rbf') and C values\n",
        "\n",
        "svm_clf = SVC(kernel='linear', C=6.0)  # Experiment with different kernels (e.g., 'rbf') and C values\n",
        "svm_cl = SVC(kernel='rbf', C=6.0)  # Experiment with different kernels (e.g., 'rbf') and C values\n",
        "\n",
        "svm_clf.fit(X_train_combined, y_train)\n",
        "svm_cl.fit(X_train_combined, y_train)"
      ],
      "metadata": {
        "colab": {
          "base_uri": "https://localhost:8080/",
          "height": 74
        },
        "id": "4aFCThrj1cnz",
        "outputId": "be7325ac-9d88-4446-8bee-5d859a03b03e"
      },
      "execution_count": 333,
      "outputs": [
        {
          "output_type": "execute_result",
          "data": {
            "text/plain": [
              "SVC(C=6.0)"
            ],
            "text/html": [
              "<style>#sk-container-id-35 {color: black;background-color: white;}#sk-container-id-35 pre{padding: 0;}#sk-container-id-35 div.sk-toggleable {background-color: white;}#sk-container-id-35 label.sk-toggleable__label {cursor: pointer;display: block;width: 100%;margin-bottom: 0;padding: 0.3em;box-sizing: border-box;text-align: center;}#sk-container-id-35 label.sk-toggleable__label-arrow:before {content: \"▸\";float: left;margin-right: 0.25em;color: #696969;}#sk-container-id-35 label.sk-toggleable__label-arrow:hover:before {color: black;}#sk-container-id-35 div.sk-estimator:hover label.sk-toggleable__label-arrow:before {color: black;}#sk-container-id-35 div.sk-toggleable__content {max-height: 0;max-width: 0;overflow: hidden;text-align: left;background-color: #f0f8ff;}#sk-container-id-35 div.sk-toggleable__content pre {margin: 0.2em;color: black;border-radius: 0.25em;background-color: #f0f8ff;}#sk-container-id-35 input.sk-toggleable__control:checked~div.sk-toggleable__content {max-height: 200px;max-width: 100%;overflow: auto;}#sk-container-id-35 input.sk-toggleable__control:checked~label.sk-toggleable__label-arrow:before {content: \"▾\";}#sk-container-id-35 div.sk-estimator input.sk-toggleable__control:checked~label.sk-toggleable__label {background-color: #d4ebff;}#sk-container-id-35 div.sk-label input.sk-toggleable__control:checked~label.sk-toggleable__label {background-color: #d4ebff;}#sk-container-id-35 input.sk-hidden--visually {border: 0;clip: rect(1px 1px 1px 1px);clip: rect(1px, 1px, 1px, 1px);height: 1px;margin: -1px;overflow: hidden;padding: 0;position: absolute;width: 1px;}#sk-container-id-35 div.sk-estimator {font-family: monospace;background-color: #f0f8ff;border: 1px dotted black;border-radius: 0.25em;box-sizing: border-box;margin-bottom: 0.5em;}#sk-container-id-35 div.sk-estimator:hover {background-color: #d4ebff;}#sk-container-id-35 div.sk-parallel-item::after {content: \"\";width: 100%;border-bottom: 1px solid gray;flex-grow: 1;}#sk-container-id-35 div.sk-label:hover label.sk-toggleable__label {background-color: #d4ebff;}#sk-container-id-35 div.sk-serial::before {content: \"\";position: absolute;border-left: 1px solid gray;box-sizing: border-box;top: 0;bottom: 0;left: 50%;z-index: 0;}#sk-container-id-35 div.sk-serial {display: flex;flex-direction: column;align-items: center;background-color: white;padding-right: 0.2em;padding-left: 0.2em;position: relative;}#sk-container-id-35 div.sk-item {position: relative;z-index: 1;}#sk-container-id-35 div.sk-parallel {display: flex;align-items: stretch;justify-content: center;background-color: white;position: relative;}#sk-container-id-35 div.sk-item::before, #sk-container-id-35 div.sk-parallel-item::before {content: \"\";position: absolute;border-left: 1px solid gray;box-sizing: border-box;top: 0;bottom: 0;left: 50%;z-index: -1;}#sk-container-id-35 div.sk-parallel-item {display: flex;flex-direction: column;z-index: 1;position: relative;background-color: white;}#sk-container-id-35 div.sk-parallel-item:first-child::after {align-self: flex-end;width: 50%;}#sk-container-id-35 div.sk-parallel-item:last-child::after {align-self: flex-start;width: 50%;}#sk-container-id-35 div.sk-parallel-item:only-child::after {width: 0;}#sk-container-id-35 div.sk-dashed-wrapped {border: 1px dashed gray;margin: 0 0.4em 0.5em 0.4em;box-sizing: border-box;padding-bottom: 0.4em;background-color: white;}#sk-container-id-35 div.sk-label label {font-family: monospace;font-weight: bold;display: inline-block;line-height: 1.2em;}#sk-container-id-35 div.sk-label-container {text-align: center;}#sk-container-id-35 div.sk-container {/* jupyter's `normalize.less` sets `[hidden] { display: none; }` but bootstrap.min.css set `[hidden] { display: none !important; }` so we also need the `!important` here to be able to override the default hidden behavior on the sphinx rendered scikit-learn.org. See: https://github.com/scikit-learn/scikit-learn/issues/21755 */display: inline-block !important;position: relative;}#sk-container-id-35 div.sk-text-repr-fallback {display: none;}</style><div id=\"sk-container-id-35\" class=\"sk-top-container\"><div class=\"sk-text-repr-fallback\"><pre>SVC(C=6.0)</pre><b>In a Jupyter environment, please rerun this cell to show the HTML representation or trust the notebook. <br />On GitHub, the HTML representation is unable to render, please try loading this page with nbviewer.org.</b></div><div class=\"sk-container\" hidden><div class=\"sk-item\"><div class=\"sk-estimator sk-toggleable\"><input class=\"sk-toggleable__control sk-hidden--visually\" id=\"sk-estimator-id-35\" type=\"checkbox\" checked><label for=\"sk-estimator-id-35\" class=\"sk-toggleable__label sk-toggleable__label-arrow\">SVC</label><div class=\"sk-toggleable__content\"><pre>SVC(C=6.0)</pre></div></div></div></div></div>"
            ]
          },
          "metadata": {},
          "execution_count": 333
        }
      ]
    },
    {
      "cell_type": "code",
      "source": [],
      "metadata": {
        "id": "9B8kaSi8zhqL",
        "colab": {
          "base_uri": "https://localhost:8080/",
          "height": 745
        },
        "outputId": "366ecea2-51b7-41e5-86b9-f4a55a6f7095"
      },
      "execution_count": 320,
      "outputs": [
        {
          "output_type": "stream",
          "name": "stderr",
          "text": [
            "/usr/local/lib/python3.10/dist-packages/sklearn/cluster/_kmeans.py:870: FutureWarning: The default value of `n_init` will change from 10 to 'auto' in 1.4. Set the value of `n_init` explicitly to suppress the warning\n",
            "  warnings.warn(\n",
            "/usr/local/lib/python3.10/dist-packages/sklearn/cluster/_kmeans.py:870: FutureWarning: The default value of `n_init` will change from 10 to 'auto' in 1.4. Set the value of `n_init` explicitly to suppress the warning\n",
            "  warnings.warn(\n",
            "/usr/local/lib/python3.10/dist-packages/sklearn/cluster/_kmeans.py:870: FutureWarning: The default value of `n_init` will change from 10 to 'auto' in 1.4. Set the value of `n_init` explicitly to suppress the warning\n",
            "  warnings.warn(\n",
            "/usr/local/lib/python3.10/dist-packages/sklearn/cluster/_kmeans.py:870: FutureWarning: The default value of `n_init` will change from 10 to 'auto' in 1.4. Set the value of `n_init` explicitly to suppress the warning\n",
            "  warnings.warn(\n",
            "/usr/local/lib/python3.10/dist-packages/sklearn/cluster/_kmeans.py:870: FutureWarning: The default value of `n_init` will change from 10 to 'auto' in 1.4. Set the value of `n_init` explicitly to suppress the warning\n",
            "  warnings.warn(\n",
            "/usr/local/lib/python3.10/dist-packages/sklearn/cluster/_kmeans.py:870: FutureWarning: The default value of `n_init` will change from 10 to 'auto' in 1.4. Set the value of `n_init` explicitly to suppress the warning\n",
            "  warnings.warn(\n",
            "/usr/local/lib/python3.10/dist-packages/sklearn/cluster/_kmeans.py:870: FutureWarning: The default value of `n_init` will change from 10 to 'auto' in 1.4. Set the value of `n_init` explicitly to suppress the warning\n",
            "  warnings.warn(\n",
            "/usr/local/lib/python3.10/dist-packages/sklearn/cluster/_kmeans.py:870: FutureWarning: The default value of `n_init` will change from 10 to 'auto' in 1.4. Set the value of `n_init` explicitly to suppress the warning\n",
            "  warnings.warn(\n"
          ]
        },
        {
          "output_type": "execute_result",
          "data": {
            "text/plain": [
              "[<matplotlib.lines.Line2D at 0x7ae20486bf40>]"
            ]
          },
          "metadata": {},
          "execution_count": 320
        },
        {
          "output_type": "display_data",
          "data": {
            "text/plain": [
              "<Figure size 640x480 with 1 Axes>"
            ],
            "image/png": "[encoded data removed]"
          },
          "metadata": {}
        }
      ]
    },
    {
      "cell_type": "markdown",
      "source": [
        "## Trying Kmeans for while\n",
        "need to figure out the K value when plotting graph got to know tehe value of the k as 4 to be optimal but this approch is more of the unsupersived clustering of the data."
      ],
      "metadata": {
        "id": "5N4aiyFT3F4u"
      }
    },
    {
      "cell_type": "code",
      "source": [
        "# silhouette_scores = []\n",
        "# from sklearn.metrics import silhouette_score\n",
        "\n",
        "# for k in range(2, 10):  # Adjust the range based on your data\n",
        "#       # Clustering with DBSCAN\n",
        "#       kmeans = KMeans(n_clusters=k, random_state=0)\n",
        "#       kmeans.fit(X_train_combined)\n",
        "\n",
        "#       # Evaluation\n",
        "#       silhouette_score_ = silhouette_score(X_train_combined, kmeans.labels_)\n",
        "#       silhouette_scores.append(silhouette_score_)\n",
        "\n",
        "# import matplotlib.pyplot as plt\n",
        "\n",
        "# plt.plot(range(2, 10), silhouette_scores, marker='o')\n",
        "\n",
        "# kmeans = KMeans(n_clusters=4, random_state=0)\n",
        "\n",
        "# cluster_labels = kmeans.fit_predict(new_data_combined)\n",
        "# new_data['label_k'] = label_encoder.inverse_transform(cluster_labels)\n",
        "# print(new_data.head(20))"
      ],
      "metadata": {
        "id": "wNFLFsb32kWE"
      },
      "execution_count": null,
      "outputs": []
    },
    {
      "cell_type": "code",
      "source": [],
      "metadata": {
        "id": "ll8ay7Rl3XPZ"
      },
      "execution_count": null,
      "outputs": []
    },
    {
      "cell_type": "markdown",
      "source": [
        "### Loading Testing data and processing before predicting the labels"
      ],
      "metadata": {
        "id": "oRh0zDLL3c1B"
      }
    },
    {
      "cell_type": "code",
      "source": [
        "# Assuming new data follows the same format as features\n",
        "\n",
        "new_data = pd.read_csv('new_data.csv')\n",
        "\n",
        "# Pre-process new data using the fitted pipeline\n",
        "new_data['weekday'] = pd.to_datetime(new_data['duration']).dt.weekday\n",
        "new_data['hour'] = pd.to_datetime(new_data['duration']).dt.hour\n",
        "scaler = StandardScaler()\n",
        "\n",
        "new_data_scaled = scaler.fit_transform(new_data[['amount','weekday','hour','bank']])\n",
        "new_data_vectorized = vectorizer.transform(new_data['vpa'])\n",
        "\n",
        "new_data_combined = np.hstack((new_data_scaled, new_data_vectorized.toarray()))  # Or use np.vstack or concatenation with axis=1\n",
        "\n",
        "\n",
        "print(new_data_scaled.shape)\n",
        "print(new_data_combined.shape)\n",
        "print(X_test_combined.shape)\n",
        "\n",
        "\n",
        "\n"
      ],
      "metadata": {
        "colab": {
          "base_uri": "https://localhost:8080/"
        },
        "id": "XzXDXOc63bz2",
        "outputId": "1adf086a-a13c-482a-c88b-200e791146b0"
      },
      "execution_count": 322,
      "outputs": [
        {
          "output_type": "stream",
          "name": "stdout",
          "text": [
            "(460, 4)\n",
            "(460, 108)\n",
            "(1, 108)\n"
          ]
        }
      ]
    },
    {
      "cell_type": "code",
      "source": [
        "#"
      ],
      "metadata": {
        "id": "I1Q9tI8o1LNe"
      },
      "execution_count": null,
      "outputs": []
    },
    {
      "cell_type": "code",
      "source": [
        "# X_test_combined = X_test_combined.reshape(1,-1)\n",
        "# predictions = svm_clf.predict(X_test_scaled)\n",
        "predictions = svm_clf.predict(new_data_combined)\n",
        "predictions_l = svm_cl.predict(new_data_combined)\n",
        "\n",
        "\n",
        "# Decode predictions using the label encoder for interpretation (optional)\n",
        "new_data['label'] = label_encoder.inverse_transform(predictions)\n",
        "new_data['label_l'] = label_encoder.inverse_transform(predictions_l)\n",
        "\n",
        "h = new_data[['amount','vpa','label','label_l', 'bank']]\n",
        "\n",
        "print(h[h['bank']==0].head(30))\n"
      ],
      "metadata": {
        "colab": {
          "base_uri": "https://localhost:8080/"
        },
        "id": "5kNDIm5u5aQI",
        "outputId": "e30a0ce9-d5d0-432d-accf-63381e7cda64"
      },
      "execution_count": 338,
      "outputs": [
        {
          "output_type": "stream",
          "name": "stdout",
          "text": [
            "      amount                                    vpa          label  \\\n",
            "0      680.0                 grofers1paytm@hdfcbank        Bisleri   \n",
            "1       30.0                         Q919833916@ybl   Office Smoke   \n",
            "2       99.0                   paytm-82845728@paytm   Office Smoke   \n",
            "3      500.0                       8815224653@paytm         Rapido   \n",
            "4      215.0  bundltechnologiespvtltdswiggy.rzp@sbi       Lazy Pay   \n",
            "5      719.0                    airtel66.payu@icici         Swiggy   \n",
            "6       80.0         BHARATPE09917518561@yesbankltd            ola   \n",
            "7      112.0                         9886974492@ybl    TVS service   \n",
            "8      500.0               appleservices.bdpg@icici   Apple Wallet   \n",
            "9       99.0                     90198026681122@axl            ola   \n",
            "10     341.0  bundltechnologiespvtltdswiggy.rzp@sbi        Blinkit   \n",
            "125    780.0                   paytm-60948055@paytm  Home TataPlay   \n",
            "126    150.0                   paytm-42307825@paytm            ola   \n",
            "182   3000.0                          Q53001019@ybl       Hospital   \n",
            "183   1200.0                   paytm-70258461@paytm         Rapido   \n",
            "184    120.0              BHARATPE.90060481120@fbpe            ola   \n",
            "185   1346.0                         Q454203535@ybl   Office Smoke   \n",
            "186   1150.0                         8722488836@ibl      Instamart   \n",
            "187    301.0                   paytm-68791349@paytm            ola   \n",
            "188    751.0                   paytm-70258461@paytm   Office Smoke   \n",
            "206    600.0                         8722488836@ibl            ola   \n",
            "207     27.0                   paytm-82923188@paytm            ola   \n",
            "208     90.0                         Q405740213@ybl            ola   \n",
            "209  11500.0               tamraduaj3060@okhdfcbank          Stuff   \n",
            "210     34.0                         9880967385@ybl            ola   \n",
            "231   2139.0                      pinedmartka@icici         Swiggy   \n",
            "232    160.0                     AMZN0026793166@apl            ola   \n",
            "233     31.0        bajajpay.6879729.05118970@indus      Instamart   \n",
            "234     33.0              BHARATPE.90066865991@fbpe            ola   \n",
            "235    520.0                         Q454203535@ybl   Office Smoke   \n",
            "\n",
            "              label_l  bank  \n",
            "0             Bisleri     0  \n",
            "1        Office Smoke     0  \n",
            "2        Office Smoke     0  \n",
            "3              Rapido     0  \n",
            "4              Rapido     0  \n",
            "5              Swiggy     0  \n",
            "6           Instamart     0  \n",
            "7         TVS service     0  \n",
            "8        Apple Wallet     0  \n",
            "9    Home Electricity     0  \n",
            "10            Blinkit     0  \n",
            "125     Home TataPlay     0  \n",
            "126      Office Smoke     0  \n",
            "182          Hospital     0  \n",
            "183            Rapido     0  \n",
            "184         Instamart     0  \n",
            "185      Office Smoke     0  \n",
            "186         Instamart     0  \n",
            "187           Haircut     0  \n",
            "188      Office Smoke     0  \n",
            "206               ola     0  \n",
            "207      Office Smoke     0  \n",
            "208               ola     0  \n",
            "209            Swiggy     0  \n",
            "210               ola     0  \n",
            "231            Swiggy     0  \n",
            "232            Swiggy     0  \n",
            "233            Swiggy     0  \n",
            "234         Instamart     0  \n",
            "235      Office Smoke     0  \n"
          ]
        }
      ]
    },
    {
      "cell_type": "markdown",
      "source": [
        "#Result\n",
        "\n",
        "1.   \n",
        "2.   List item\n",
        "\n"
      ],
      "metadata": {
        "id": "jsvUvI2pqRG0"
      }
    }
  ]
}